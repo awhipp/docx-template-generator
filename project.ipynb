{
 "cells": [
  {
   "cell_type": "code",
   "execution_count": 45,
   "metadata": {},
   "outputs": [],
   "source": [
    "from docx import Document\n",
    "import csv  \n",
    "import json    \n",
    "import os"
   ]
  },
  {
   "cell_type": "code",
   "execution_count": 48,
   "metadata": {},
   "outputs": [],
   "source": [
    "with open(\"data.csv\", \"rb\") as f:\n",
    "    reader = csv.reader(f)\n",
    "    header = reader.next()\n",
    "fieldNames = header\n",
    "identifier = header[0]"
   ]
  },
  {
   "cell_type": "code",
   "execution_count": 49,
   "metadata": {},
   "outputs": [],
   "source": [
    "csvMetadata = open( 'data.csv', 'rU' )\n",
    "ogDocument = Document('document.docx')\n",
    "\n",
    "if not os.path.exists(\"results\"):\n",
    "    os.makedirs(\"results\")"
   ]
  },
  {
   "cell_type": "code",
   "execution_count": 50,
   "metadata": {},
   "outputs": [],
   "source": [
    "csvReader = csv.DictReader( \n",
    "    csvMetadata, \n",
    "    fieldnames = fieldNames\n",
    ")  \n",
    "\n",
    "csvJSON = json.loads(\n",
    "    json.dumps( \n",
    "        [ row for row in csvReader ] \n",
    "    )\n",
    ")\n",
    "\n",
    "del csvJSON[0]"
   ]
  },
  {
   "cell_type": "code",
   "execution_count": 52,
   "metadata": {},
   "outputs": [
    {
     "name": "stdout",
     "output_type": "stream",
     "text": [
      "----\n",
      "Created document: results/101.docx\n",
      "Found:  $email and replacing it with: john_test@gmail.com\n",
      "Found:  $name and replacing it with: john\n",
      "Found:  $name and replacing it with: john\n",
      "Found:  $id and replacing it with: 101\n",
      "----\n",
      "Created document: results/102.docx\n",
      "Found:  $email and replacing it with: jane_test@gmail.com\n",
      "Found:  $name and replacing it with: jane\n",
      "Found:  $name and replacing it with: jane\n",
      "Found:  $id and replacing it with: 102\n"
     ]
    }
   ],
   "source": [
    "for row in csvJSON:\n",
    "    print \"----\"\n",
    "    ogDocument.save(\"results/\" + row[identifier] + '.docx')\n",
    "    document = Document(\"results/\" + row[identifier] + '.docx')\n",
    "    print \"Created document: results/\" + row[identifier] + \".docx\"\n",
    "    for (key, value) in row.items():\n",
    "        searchTerm = \"$\" + key\n",
    "        for paragraph in document.paragraphs:\n",
    "            if searchTerm in paragraph.text:\n",
    "                print \"Found: \", searchTerm, \"and replacing it with:\", value\n",
    "                paragraph.text = paragraph.text.replace(searchTerm, value)\n",
    "    document.save(\"results/\" + row[identifier] + '.docx')     "
   ]
  },
  {
   "cell_type": "code",
   "execution_count": null,
   "metadata": {},
   "outputs": [],
   "source": []
  }
 ],
 "metadata": {
  "kernelspec": {
   "display_name": "Python 2",
   "language": "python",
   "name": "python2"
  },
  "language_info": {
   "codemirror_mode": {
    "name": "ipython",
    "version": 2
   },
   "file_extension": ".py",
   "mimetype": "text/x-python",
   "name": "python",
   "nbconvert_exporter": "python",
   "pygments_lexer": "ipython2",
   "version": "2.7.10"
  }
 },
 "nbformat": 4,
 "nbformat_minor": 2
}
